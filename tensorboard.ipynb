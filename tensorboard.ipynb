{
 "cells": [
  {
   "cell_type": "code",
   "execution_count": 1,
   "id": "48da28a3-d07f-4429-98b6-df2813619bda",
   "metadata": {},
   "outputs": [],
   "source": [
    "import torch"
   ]
  },
  {
   "cell_type": "code",
   "execution_count": 5,
   "id": "663ff8c9-bb89-4372-ad3c-1a327bb3d5fc",
   "metadata": {},
   "outputs": [
    {
     "name": "stdout",
     "output_type": "stream",
     "text": [
      "The tensorboard extension is already loaded. To reload it, use:\n",
      "  %reload_ext tensorboard\n"
     ]
    }
   ],
   "source": [
    "# Load the TensorBoard notebook extension\n",
    "%load_ext tensorboard"
   ]
  },
  {
   "cell_type": "code",
   "execution_count": null,
   "id": "ebb0bf41-459b-436b-b034-4c1c21b346cb",
   "metadata": {},
   "outputs": [],
   "source": [
    "# --logdir=\"/home/kmckeen/project413/WRITTEN2LATEX/runs/Apr10_01-13-17_vws9/\""
   ]
  },
  {
   "cell_type": "code",
   "execution_count": 39,
   "id": "6086f6ac-d3cf-4d84-8acf-27a41494bc87",
   "metadata": {},
   "outputs": [
    {
     "data": {
      "text/html": [
       "\n",
       "      <iframe id=\"tensorboard-frame-4e8007c8741b0a0c\" width=\"100%\" height=\"800\" frameborder=\"0\">\n",
       "      </iframe>\n",
       "      <script>\n",
       "        (function() {\n",
       "          const frame = document.getElementById(\"tensorboard-frame-4e8007c8741b0a0c\");\n",
       "          const url = new URL(\"/\", window.location);\n",
       "          const port = 8101;\n",
       "          if (port) {\n",
       "            url.port = port;\n",
       "          }\n",
       "          frame.src = url;\n",
       "        })();\n",
       "      </script>\n",
       "    "
      ],
      "text/plain": [
       "<IPython.core.display.HTML object>"
      ]
     },
     "metadata": {},
     "output_type": "display_data"
    }
   ],
   "source": [
    "!kill 1707457\n",
    "%tensorboard --logdir=\"./runs/Apr10_01-13-17_vws9/\" --host localhost --port 8101"
   ]
  },
  {
   "cell_type": "code",
   "execution_count": null,
   "id": "01f91414-0118-48f3-b6e8-c66eba3f2e14",
   "metadata": {},
   "outputs": [],
   "source": []
  }
 ],
 "metadata": {
  "kernelspec": {
   "display_name": "Python 3 (ipykernel)",
   "language": "python",
   "name": "python3"
  },
  "language_info": {
   "codemirror_mode": {
    "name": "ipython",
    "version": 3
   },
   "file_extension": ".py",
   "mimetype": "text/x-python",
   "name": "python",
   "nbconvert_exporter": "python",
   "pygments_lexer": "ipython3",
   "version": "3.8.10"
  }
 },
 "nbformat": 4,
 "nbformat_minor": 5
}
